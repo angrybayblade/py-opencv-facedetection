{
 "cells": [
  {
   "cell_type": "code",
   "execution_count": 18,
   "metadata": {},
   "outputs": [],
   "source": [
    "from sklearn.svm import SVC,LinearSVC,NuSVC\n",
    "from sklearn.ensemble import RandomForestClassifier,AdaBoostClassifier,ExtraTreesClassifier,GradientBoostingClassifier\n",
    "from sklearn.tree import DecisionTreeClassifier\n",
    "from sklearn.linear_model import LogisticRegression\n",
    "from sklearn.neighbors import KNeighborsClassifier\n",
    "from sklearn.naive_bayes import GaussianNB\n",
    "from cv2 import imread,resize\n",
    "import cv2\n",
    "import numpy as np\n",
    "from pandas import DataFrame\n",
    "import os\n",
    "import time\n",
    "%matplotlib inline"
   ]
  },
  {
   "cell_type": "code",
   "execution_count": 19,
   "metadata": {},
   "outputs": [],
   "source": [
    "temp_array = os.listdir(\"templates//\")\n",
    "temps = {a.replace('.png',''):resize(imread('templates//{}'.format(a),0),(80,80)) for a in temp_array}"
   ]
  },
  {
   "cell_type": "code",
   "execution_count": 20,
   "metadata": {},
   "outputs": [],
   "source": [
    "Temps = [[i] for i in temps]\n",
    "for i in range(len(Temps)):\n",
    "    Temps[i] = Temps[i]+temps[Temps[i][0]].reshape(1,6400).tolist()[0]"
   ]
  },
  {
   "cell_type": "code",
   "execution_count": 21,
   "metadata": {},
   "outputs": [],
   "source": [
    "\n",
    "df = DataFrame(Temps,columns=['face']+list(range(6400)))"
   ]
  },
  {
   "cell_type": "code",
   "execution_count": 22,
   "metadata": {},
   "outputs": [],
   "source": [
    "temp_array_old = os.listdir(\"templates//\")\n",
    "temps_old = {a.replace('.png',''):cv2.imread('templates//{}'.format(a),0) for a in temp_array_old}\n",
    "obama = temps_old['obama']\n",
    "def detect(img):\n",
    "    for t in temps_old:\n",
    "        w,h = temps[t].shape[::-1]\n",
    "        res = cv2.matchTemplate(obama,temps_old[t],cv2.TM_CCOEFF_NORMED)\n",
    "        thres = 0.7\n",
    "        loc = np.where(res>=thres)\n",
    "        \n",
    "t = time.time()\n",
    "detect(obama)\n",
    "temp_matching_time = (time.time()-t)"
   ]
  },
  {
   "cell_type": "code",
   "execution_count": 23,
   "metadata": {},
   "outputs": [],
   "source": [
    "score_matrix = []\n",
    "obama = df\n",
    "def score_classifier(clf,x,y):\n",
    "    model = clf()\n",
    "    model.fit(x,y)\n",
    "    t = time.time()\n",
    "    model.predict(df.loc[1][1:].values.reshape(1,-1))\n",
    "    time_pred = time.time() - t\n",
    "    score_matrix.append([str(clf).split(\".\")[-1].replace(\"\\'\",\"\").replace(\">\",\"\"),model,model.score(x,y),time_pred])"
   ]
  },
  {
   "cell_type": "code",
   "execution_count": 24,
   "metadata": {},
   "outputs": [],
   "source": [
    "clfs = [SVC,LinearSVC,NuSVC,RandomForestClassifier,AdaBoostClassifier,ExtraTreesClassifier,GradientBoostingClassifier,DecisionTreeClassifier,LogisticRegression,KNeighborsClassifier,GaussianNB]"
   ]
  },
  {
   "cell_type": "code",
   "execution_count": 25,
   "metadata": {},
   "outputs": [
    {
     "name": "stderr",
     "output_type": "stream",
     "text": [
      "c:\\python37\\lib\\site-packages\\sklearn\\svm\\base.py:196: FutureWarning: The default value of gamma will change from 'auto' to 'scale' in version 0.22 to account better for unscaled features. Set gamma explicitly to 'auto' or 'scale' to avoid this warning.\n",
      "  \"avoid this warning.\", FutureWarning)\n",
      "c:\\python37\\lib\\site-packages\\sklearn\\svm\\base.py:196: FutureWarning: The default value of gamma will change from 'auto' to 'scale' in version 0.22 to account better for unscaled features. Set gamma explicitly to 'auto' or 'scale' to avoid this warning.\n",
      "  \"avoid this warning.\", FutureWarning)\n",
      "c:\\python37\\lib\\site-packages\\sklearn\\ensemble\\forest.py:246: FutureWarning: The default value of n_estimators will change from 10 in version 0.20 to 100 in 0.22.\n",
      "  \"10 in version 0.20 to 100 in 0.22.\", FutureWarning)\n",
      "c:\\python37\\lib\\site-packages\\sklearn\\ensemble\\forest.py:246: FutureWarning: The default value of n_estimators will change from 10 in version 0.20 to 100 in 0.22.\n",
      "  \"10 in version 0.20 to 100 in 0.22.\", FutureWarning)\n",
      "c:\\python37\\lib\\site-packages\\sklearn\\linear_model\\logistic.py:433: FutureWarning: Default solver will be changed to 'lbfgs' in 0.22. Specify a solver to silence this warning.\n",
      "  FutureWarning)\n",
      "c:\\python37\\lib\\site-packages\\sklearn\\linear_model\\logistic.py:460: FutureWarning: Default multi_class will be changed to 'auto' in 0.22. Specify the multi_class option to silence this warning.\n",
      "  \"this warning.\", FutureWarning)\n"
     ]
    }
   ],
   "source": [
    "x,y = df.drop(columns=['face']),df.face\n",
    "for clf in clfs:\n",
    "    score_classifier(clf,x,y)"
   ]
  },
  {
   "cell_type": "code",
   "execution_count": 26,
   "metadata": {},
   "outputs": [],
   "source": [
    "score_df = DataFrame(score_matrix,columns=['Name','Model','Score','Time']).sort_values(by='Time')"
   ]
  },
  {
   "cell_type": "code",
   "execution_count": 27,
   "metadata": {},
   "outputs": [],
   "source": [
    "score_df['RelativeTime'] = score_df.Time/score_df.Time.values.tolist()[-1]"
   ]
  },
  {
   "cell_type": "code",
   "execution_count": 28,
   "metadata": {},
   "outputs": [
    {
     "data": {
      "text/plain": [
       "<matplotlib.axes._subplots.AxesSubplot at 0x1f9b0d7a518>"
      ]
     },
     "execution_count": 28,
     "metadata": {},
     "output_type": "execute_result"
    },
    {
     "data": {
      "image/png": "[encoded data removed]",
      "text/plain": [
       "<Figure size 432x288 with 1 Axes>"
      ]
     },
     "metadata": {
      "needs_background": "light"
     },
     "output_type": "display_data"
    }
   ],
   "source": [
    "score_df.plot.barh(x='Name',y='RelativeTime')"
   ]
  },
  {
   "cell_type": "markdown",
   "metadata": {},
   "source": [
    "### Generalized Face Training."
   ]
  },
  {
   "cell_type": "code",
   "execution_count": 39,
   "metadata": {},
   "outputs": [],
   "source": [
    "def saveTemplate(img,name):\n",
    "    roi = []\n",
    "    gray = cv2.cvtColor(img, cv2.COLOR_BGR2GRAY)\n",
    "    faces = face_cascade.detectMultiScale(gray, 1.3, 5)\n",
    "\n",
    "    for (x,y,w,h) in faces:\n",
    "        cv2.rectangle(img,(x,y),(x+w-10,y+h-10),(255,0,0),2)\n",
    "        roi_gray = gray[y:y+h-5, x:x+w-5]\n",
    "        roi.append(roi_gray)\n",
    "        \n",
    "    for a in roi:\n",
    "        cv2.imshow('',a)\n",
    "        print (\"Press Any Key To Exit Preview\")\n",
    "        cv2.waitKey(0)\n",
    "        cv2.destroyAllWindows()\n",
    "        name = input(\"Enter Name For The Face (Type None to ignore face) : \")\n",
    "        if name == \"None\":\n",
    "            print (\"Face Ignored\")\n",
    "        else:\n",
    "            file = os.path.join(os.getcwd(),\"templates\\\\{}.png\".format(name))\n",
    "            print (file)\n",
    "            cv2.imwrite(file,a)\n",
    "            \n",
    "face_temps = os.listdir(\"faces//\")\n",
    "faces = {}\n",
    "for face in face_temps:\n",
    "    img = cv2.imread('faces//{}'.format(face),0)\n",
    "    name = \" \".join([i for i in face.split(\".\") if i not in ['jpg','png','jpeg']])\n",
    "    faces.update({name:img})\n",
    "\n",
    "for face in faces:\n",
    "    saveTemplate()"
   ]
  },
  {
   "cell_type": "code",
   "execution_count": 40,
   "metadata": {},
   "outputs": [
    {
     "data": {
      "text/plain": [
       "{'anjelina jolie': array([[134, 134, 136, ..., 139, 139, 139],\n",
       "        [134, 135, 136, ..., 139, 139, 139],\n",
       "        [135, 135, 137, ..., 139, 139, 139],\n",
       "        ...,\n",
       "        [235, 227, 223, ..., 227, 224, 223],\n",
       "        [236, 222, 213, ..., 228, 225, 224],\n",
       "        [237, 218, 206, ..., 228, 226, 226]], dtype=uint8),\n",
       " 'brad pitt': array([[119, 112, 103, ...,  91,  88,  85],\n",
       "        [ 93, 105, 112, ...,  93,  89,  86],\n",
       "        [ 55,  73,  95, ...,  93,  89,  86],\n",
       "        ...,\n",
       "        [  0,   0,   0, ...,   2,   2,   2],\n",
       "        [  0,   0,   0, ...,   2,   2,   2],\n",
       "        [  0,   0,   0, ...,   2,   2,   2]], dtype=uint8),\n",
       " 'cate blanchett': array([[102, 102, 102, ...,  98,  98,  98],\n",
       "        [102, 102, 102, ...,  98,  98,  98],\n",
       "        [102, 102, 102, ...,  98,  98,  98],\n",
       "        ...,\n",
       "        [ 92,  92,  92, ...,  97,  98,  98],\n",
       "        [ 92,  92,  92, ...,  97,  98,  98],\n",
       "        [ 92,  92,  92, ...,  94,  95,  95]], dtype=uint8),\n",
       " 'chandler': array([[250, 250, 250, ..., 243, 243, 243],\n",
       "        [250, 250, 250, ..., 243, 243, 243],\n",
       "        [250, 250, 250, ..., 243, 243, 243],\n",
       "        ...,\n",
       "        [ 62,  62,  62, ...,  53,  53,  53],\n",
       "        [ 63,  62,  62, ...,  53,  53,  53],\n",
       "        [ 63,  62,  62, ...,  58,  58,  58]], dtype=uint8),\n",
       " 'David Schwimmer': array([[240, 240, 240, ..., 228, 227, 226],\n",
       "        [230, 230, 230, ..., 229, 228, 227],\n",
       "        [217, 217, 216, ..., 230, 229, 228],\n",
       "        ...,\n",
       "        [ 10,   4,   1, ...,   3,   6,  12],\n",
       "        [  6,   4,   1, ...,   3,   5,   7],\n",
       "        [  6,   4,   1, ...,   3,   5,   7]], dtype=uint8),\n",
       " 'goku': array([[145, 145, 145, ..., 145, 145, 145],\n",
       "        [145, 145, 145, ..., 145, 145, 145],\n",
       "        [145, 145, 145, ..., 145, 145, 145],\n",
       "        ...,\n",
       "        [145, 145, 145, ..., 145, 145, 145],\n",
       "        [145, 145, 145, ..., 145, 145, 145],\n",
       "        [145, 145, 145, ..., 145, 145, 145]], dtype=uint8),\n",
       " 'jenifer aniston': array([[235, 235, 235, ..., 231, 231, 231],\n",
       "        [235, 235, 235, ..., 232, 232, 232],\n",
       "        [235, 235, 235, ..., 232, 232, 232],\n",
       "        ...,\n",
       "        [148, 152, 143, ...,  80,  96, 105],\n",
       "        [162, 155, 148, ...,  86,  97, 107],\n",
       "        [154, 144, 136, ...,  91,  97, 107]], dtype=uint8),\n",
       " 'matt leblancc': array([[223, 223, 223, ..., 167, 166, 166],\n",
       "        [224, 223, 223, ..., 167, 166, 166],\n",
       "        [224, 224, 224, ..., 167, 166, 166],\n",
       "        ...,\n",
       "        [ 42,  32,  32, ...,  13,  12,  12],\n",
       "        [ 42,  32,  32, ...,  13,  12,  12],\n",
       "        [ 42,  32,  32, ...,  13,  12,  12]], dtype=uint8),\n",
       " 'meliodas': array([[238, 238, 238, ...,  53,  53,  53],\n",
       "        [238, 238, 238, ...,  46,  46,  46],\n",
       "        [239, 239, 239, ...,  40,  40,  40],\n",
       "        ...,\n",
       "        [228, 228, 228, ..., 229, 229, 229],\n",
       "        [228, 228, 228, ..., 229, 229, 229],\n",
       "        [228, 228, 228, ..., 229, 229, 229]], dtype=uint8),\n",
       " 'milla jovowich': array([[ 58,  59,  60, ..., 114, 114, 114],\n",
       "        [ 59,  60,  61, ..., 112, 112, 113],\n",
       "        [ 61,  62,  63, ..., 111, 112, 115],\n",
       "        ...,\n",
       "        [131, 133, 135, ..., 235, 235, 235],\n",
       "        [133, 134, 136, ..., 234, 234, 234],\n",
       "        [135, 135, 136, ..., 233, 234, 234]], dtype=uint8),\n",
       " 'tom cruise': array([[71, 72, 73, ..., 66, 66, 65],\n",
       "        [71, 72, 73, ..., 66, 66, 65],\n",
       "        [71, 72, 73, ..., 66, 66, 65],\n",
       "        ...,\n",
       "        [82, 82, 81, ..., 57, 57, 55],\n",
       "        [82, 82, 81, ..., 57, 57, 53],\n",
       "        [83, 81, 78, ..., 54, 54, 52]], dtype=uint8)}"
      ]
     },
     "execution_count": 40,
     "metadata": {},
     "output_type": "execute_result"
    }
   ],
   "source": []
  },
  {
   "cell_type": "code",
   "execution_count": null,
   "metadata": {},
   "outputs": [],
   "source": []
  }
 ],
 "metadata": {
  "kernelspec": {
   "display_name": "Python 3",
   "language": "python",
   "name": "python3"
  },
  "language_info": {
   "codemirror_mode": {
    "name": "ipython",
    "version": 3
   },
   "file_extension": ".py",
   "mimetype": "text/x-python",
   "name": "python",
   "nbconvert_exporter": "python",
   "pygments_lexer": "ipython3",
   "version": "3.7.2"
  }
 },
 "nbformat": 4,
 "nbformat_minor": 2
}
