{
 "cells": [
  {
   "cell_type": "code",
   "execution_count": 44,
   "metadata": {},
   "outputs": [],
   "source": [
    "from sklearn.svm import SVC,LinearSVC,NuSVC\n",
    "from sklearn.ensemble import RandomForestClassifier,AdaBoostClassifier,ExtraTreesClassifier,GradientBoostingClassifier\n",
    "from sklearn.tree import DecisionTreeClassifier\n",
    "from sklearn.linear_model import LogisticRegression\n",
    "from sklearn.neighbors import KNeighborsClassifier\n",
    "from sklearn.naive_bayes import GaussianNB\n",
    "from cv2 import imread,resize\n",
    "import cv2\n",
    "import numpy as np\n",
    "from pandas import DataFrame\n",
    "import os\n",
    "import time\n",
    "%matplotlib inline"
   ]
  },
  {
   "cell_type": "code",
   "execution_count": 45,
   "metadata": {},
   "outputs": [],
   "source": [
    "temp_array = os.listdir(\"templates//\")\n",
    "temps = {a.replace('.png',''):resize(imread('templates//{}'.format(a),0),(80,80)) for a in temp_array}"
   ]
  },
  {
   "cell_type": "code",
   "execution_count": 46,
   "metadata": {},
   "outputs": [],
   "source": [
    "Temps = [[i] for i in temps]\n",
    "for i in range(len(Temps)):\n",
    "    Temps[i] = Temps[i]+temps[Temps[i][0]].reshape(1,6400).tolist()[0]"
   ]
  },
  {
   "cell_type": "code",
   "execution_count": 47,
   "metadata": {},
   "outputs": [],
   "source": [
    "\n",
    "df = DataFrame(Temps,columns=['face']+list(range(6400)))"
   ]
  },
  {
   "cell_type": "code",
   "execution_count": 48,
   "metadata": {},
   "outputs": [],
   "source": [
    "temp_array_old = os.listdir(\"templates//\")\n",
    "temps_old = {a.replace('.png',''):cv2.imread('templates//{}'.format(a),0) for a in temp_array_old}\n",
    "obama = temps_old['obama']\n",
    "def detect(img):\n",
    "    for t in temps_old:\n",
    "        w,h = temps[t].shape[::-1]\n",
    "        res = cv2.matchTemplate(obama,temps_old[t],cv2.TM_CCOEFF_NORMED)\n",
    "        thres = 0.7\n",
    "        loc = np.where(res>=thres)\n",
    "        \n",
    "t = time.time()\n",
    "detect(obama)\n",
    "temp_matching_time = (time.time()-t)"
   ]
  },
  {
   "cell_type": "code",
   "execution_count": 49,
   "metadata": {},
   "outputs": [],
   "source": [
    "score_matrix = []\n",
    "obama = df\n",
    "def score_classifier(clf,x,y):\n",
    "    model = clf()\n",
    "    model.fit(x,y)\n",
    "    t = time.time()\n",
    "    model.predict(df.loc[1][1:].values.reshape(1,-1))\n",
    "    time_pred = time.time() - t\n",
    "    score_matrix.append([str(clf).split(\".\")[-1].replace(\"\\'\",\"\").replace(\">\",\"\"),model,model.score(x,y),time_pred])"
   ]
  },
  {
   "cell_type": "code",
   "execution_count": 50,
   "metadata": {},
   "outputs": [],
   "source": [
    "clfs = [SVC,LinearSVC,NuSVC,RandomForestClassifier,AdaBoostClassifier,ExtraTreesClassifier,GradientBoostingClassifier,DecisionTreeClassifier,LogisticRegression,KNeighborsClassifier,GaussianNB]"
   ]
  },
  {
   "cell_type": "code",
   "execution_count": 51,
   "metadata": {},
   "outputs": [
    {
     "name": "stderr",
     "output_type": "stream",
     "text": [
      "c:\\python37\\lib\\site-packages\\sklearn\\svm\\base.py:196: FutureWarning: The default value of gamma will change from 'auto' to 'scale' in version 0.22 to account better for unscaled features. Set gamma explicitly to 'auto' or 'scale' to avoid this warning.\n",
      "  \"avoid this warning.\", FutureWarning)\n",
      "c:\\python37\\lib\\site-packages\\sklearn\\svm\\base.py:196: FutureWarning: The default value of gamma will change from 'auto' to 'scale' in version 0.22 to account better for unscaled features. Set gamma explicitly to 'auto' or 'scale' to avoid this warning.\n",
      "  \"avoid this warning.\", FutureWarning)\n",
      "c:\\python37\\lib\\site-packages\\sklearn\\ensemble\\forest.py:246: FutureWarning: The default value of n_estimators will change from 10 in version 0.20 to 100 in 0.22.\n",
      "  \"10 in version 0.20 to 100 in 0.22.\", FutureWarning)\n",
      "c:\\python37\\lib\\site-packages\\sklearn\\ensemble\\forest.py:246: FutureWarning: The default value of n_estimators will change from 10 in version 0.20 to 100 in 0.22.\n",
      "  \"10 in version 0.20 to 100 in 0.22.\", FutureWarning)\n",
      "c:\\python37\\lib\\site-packages\\sklearn\\linear_model\\logistic.py:433: FutureWarning: Default solver will be changed to 'lbfgs' in 0.22. Specify a solver to silence this warning.\n",
      "  FutureWarning)\n",
      "c:\\python37\\lib\\site-packages\\sklearn\\linear_model\\logistic.py:460: FutureWarning: Default multi_class will be changed to 'auto' in 0.22. Specify the multi_class option to silence this warning.\n",
      "  \"this warning.\", FutureWarning)\n"
     ]
    }
   ],
   "source": [
    "x,y = df.drop(columns=['face']),df.face\n",
    "for clf in clfs:\n",
    "    score_classifier(clf,x,y)"
   ]
  },
  {
   "cell_type": "code",
   "execution_count": 55,
   "metadata": {},
   "outputs": [],
   "source": [
    "score_matrix.append(['Template Matching',detect,0.5-1,temp_matching_time])\n",
    "score_df = DataFrame(score_matrix,columns=['Name','Model','Score','Time']).sort_values(by='Time')"
   ]
  },
  {
   "cell_type": "code",
   "execution_count": 56,
   "metadata": {},
   "outputs": [],
   "source": [
    "score_df['RelativeTime'] = score_df.Time/score_df.Time.values.tolist()[-1]"
   ]
  },
  {
   "cell_type": "code",
   "execution_count": 57,
   "metadata": {},
   "outputs": [
    {
     "data": {
      "text/plain": [
       "<matplotlib.axes._subplots.AxesSubplot at 0x1f9b501f160>"
      ]
     },
     "execution_count": 57,
     "metadata": {},
     "output_type": "execute_result"
    },
    {
     "data": {
      "image/png": "[encoded data removed]",
      "text/plain": [
       "<Figure size 432x288 with 1 Axes>"
      ]
     },
     "metadata": {
      "needs_background": "light"
     },
     "output_type": "display_data"
    }
   ],
   "source": [
    "score_df.plot.barh(x='Name',y='RelativeTime')"
   ]
  },
  {
   "cell_type": "markdown",
   "metadata": {},
   "source": [
    "### Generalized Face Training."
   ]
  },
  {
   "cell_type": "code",
   "execution_count": 43,
   "metadata": {},
   "outputs": [],
   "source": [
    "import numpy as np\n",
    "import cv2\n",
    "import os\n",
    "global l\n",
    "\n",
    "face_cascade = cv2.CascadeClassifier(\"haarcascade_frontalface_default.xml\")\n",
    "\n",
    "def saveTemplate(img,name):\n",
    "    roi = []\n",
    "    gray = cv2.cvtColor(img, cv2.COLOR_BGR2GRAY)\n",
    "    faces = face_cascade.detectMultiScale(gray, 1.3, 5)\n",
    "\n",
    "    for (x,y,w,h) in faces:\n",
    "        cv2.rectangle(img,(x,y),(x+w-10,y+h-10),(255,0,0),2)\n",
    "        roi_gray = gray[y:y+h-5, x:x+w-5]\n",
    "        roi.append(roi_gray)\n",
    "        \n",
    "    for a in roi:\n",
    "        file = os.path.join(os.getcwd(),\"templates\\\\{}.png\".format(name))\n",
    "        cv2.imwrite(file,a)\n",
    "            \n",
    "face_temps = os.listdir(\"faces//\")\n",
    "faces = {}\n",
    "for face in face_temps:\n",
    "    img = cv2.imread('faces//{}'.format(face))\n",
    "    name = \" \".join([i for i in face.split(\".\") if i not in ['jpg','png','jpeg']])\n",
    "    faces.update({name:img})\n",
    "\n",
    "for face in faces:\n",
    "    saveTemplate(faces[face],face)"
   ]
  },
  {
   "cell_type": "code",
   "execution_count": null,
   "metadata": {},
   "outputs": [],
   "source": []
  },
  {
   "cell_type": "code",
   "execution_count": null,
   "metadata": {},
   "outputs": [],
   "source": []
  }
 ],
 "metadata": {
  "kernelspec": {
   "display_name": "Python 3",
   "language": "python",
   "name": "python3"
  },
  "language_info": {
   "codemirror_mode": {
    "name": "ipython",
    "version": 3
   },
   "file_extension": ".py",
   "mimetype": "text/x-python",
   "name": "python",
   "nbconvert_exporter": "python",
   "pygments_lexer": "ipython3",
   "version": "3.7.2"
  }
 },
 "nbformat": 4,
 "nbformat_minor": 2
}
